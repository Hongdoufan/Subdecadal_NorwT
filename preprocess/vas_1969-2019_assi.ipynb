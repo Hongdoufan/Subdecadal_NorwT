{
 "cells": [
  {
   "cell_type": "code",
   "execution_count": 1,
   "metadata": {},
   "outputs": [],
   "source": [
    "import xarray as xr\n",
    "import numpy as np\n",
    "import netCDF4\n",
    "import pandas as pd\n",
    "from scipy import signal"
   ]
  },
  {
   "cell_type": "code",
   "execution_count": 2,
   "metadata": {},
   "outputs": [],
   "source": [
    "var = \"vas\"\n",
    "arr = []\n",
    "for ens_index in range(1,17):\n",
    "        filename = \"/work/uo1075/u241321/data/u241321/data_cdo/vas_assi/\"+var+\"_Amon_MPI-ESM-LR_asSEIKERAf_r\"+str(ens_index)+\"i8p4_197001-201912_ym_g1d0.nc\"\n",
    "        arr.append(xr.load_dataset(filename,decode_times=False).assign_coords(ensemble=ens_index))"
   ]
  },
  {
   "cell_type": "code",
   "execution_count": 3,
   "metadata": {},
   "outputs": [],
   "source": [
    "data = xr.concat(arr, dim=\"member\")"
   ]
  },
  {
   "cell_type": "code",
   "execution_count": 4,
   "metadata": {
    "tags": []
   },
   "outputs": [],
   "source": [
    "annual_pre = data ['vas']\n",
    "# annual_pre"
   ]
  },
  {
   "cell_type": "code",
   "execution_count": 5,
   "metadata": {},
   "outputs": [],
   "source": [
    "\n",
    "# annual_pre = np.zeros((ds_r['member'].size,50,ds_r['depth'].size,ds_r['lat'].size,ds_r['lon'].size))\n",
    "# annual_pre = annual[:,:,9:59,:,:,:]\n",
    "\n",
    "annual_prediction = annual_pre.transpose(\"time\", \"member\", \"lat\", \"lon\") # \n",
    "dat = np.mean(annual_prediction,axis=0)\n",
    "# dif = annual_prediction-dat"
   ]
  },
  {
   "cell_type": "code",
   "execution_count": 16,
   "metadata": {},
   "outputs": [
    {
     "data": {
      "text/plain": [
       "(50, 16, 180, 360)"
      ]
     },
     "execution_count": 16,
     "metadata": {},
     "output_type": "execute_result"
    }
   ],
   "source": [
    "annual_prediction.shape "
   ]
  },
  {
   "cell_type": "code",
   "execution_count": 6,
   "metadata": {},
   "outputs": [],
   "source": [
    "dropped = annual_prediction.stack(feature=(\"member\",\"lat\",\"lon\")).dropna(dim=\"feature\")\n",
    "detrend = signal.detrend(dropped ,axis=0)\n",
    "feature = dropped .coords[\"feature\"]\n",
    "time = dropped .coords[\"time\"]\n",
    "detrend = xr.DataArray(detrend, dims = [\"time\",\"feature\"], coords = {\"time\":time,\"feature\":feature}).unstack()\n",
    "# #"
   ]
  },
  {
   "cell_type": "code",
   "execution_count": 7,
   "metadata": {},
   "outputs": [],
   "source": [
    "detrend.to_netcdf(\"/work/uo1075/u241321/data/vas_1969-2019_assi_dt.nc\")"
   ]
  },
  {
   "cell_type": "code",
   "execution_count": 19,
   "metadata": {},
   "outputs": [],
   "source": [
    "# full value\n",
    "annual_prediction.to_netcdf(\"/work/uo1075/u241321/data/vas_1969-2019_assi.nc\")"
   ]
  },
  {
   "cell_type": "code",
   "execution_count": null,
   "metadata": {},
   "outputs": [],
   "source": []
  }
 ],
 "metadata": {
  "kernelspec": {
   "display_name": "1 Python 3 (based on the module python3/2023.01)",
   "language": "python",
   "name": "python3_2023_01"
  },
  "language_info": {
   "codemirror_mode": {
    "name": "ipython",
    "version": 3
   },
   "file_extension": ".py",
   "mimetype": "text/x-python",
   "name": "python",
   "nbconvert_exporter": "python",
   "pygments_lexer": "ipython3",
   "version": "3.10.10"
  }
 },
 "nbformat": 4,
 "nbformat_minor": 4
}
