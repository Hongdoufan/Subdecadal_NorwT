{
 "cells": [
  {
   "cell_type": "code",
   "execution_count": 1,
   "metadata": {},
   "outputs": [],
   "source": [
    "import xarray as xr\n",
    "import numpy as np\n",
    "from xarray import DataArray\n",
    "import pandas as pd\n",
    "from scipy import signal"
   ]
  },
  {
   "cell_type": "code",
   "execution_count": 3,
   "metadata": {},
   "outputs": [],
   "source": [
    "data1       = xr.open_dataset(\"/work/uo1075/u241321/data/u241321/data_cdo/Obs/EN4_s_ym_remap_NA560.nc\" ,decode_times=False) \n",
    "data2       = xr.open_dataset(\"/work/uo1075/u241321/data/u241321/data_cdo/Obs/EN4_t_ym_remap_NA560.nc\" ,decode_times=False) \n",
    "data3       = xr.open_dataset(\"/work/uo1075/u241321/data/u241321/data_cdo/data_Atlas/temperature_1900-2012_ym_remap_NA560.nc\",decode_times=False) \n",
    "data4       = xr.open_dataset(\"/work/uo1075/u241321/data/u241321/data_cdo/data_Atlas/salinity_1900-2012_ym_remap_NA560.nc\",decode_times=False) \n",
    "\n",
    "\n",
    "# obs anomalies for 1970-2019 EN4\n",
    "s_o = data1 ['salinity']\n",
    "s_oo = s_o[9:,:,:]-np.mean(s_o[9:,:,:],axis=0)\n",
    "\n",
    "t_o = data2 ['temperature']\n",
    "t_oo = t_o[9:,:,:]-np.mean(t_o[9:,:,:],axis=0)\n",
    "\n",
    "# obs anomalies for 1970-2012 Atlas\n",
    "t_o3 = data3 ['Temperature']\n",
    "t_oo3 = t_o3[70:,:,:]-np.mean(t_o3[70:,:,:],axis=0)\n",
    "\n",
    "s_o4 = data4 ['Salinity']\n",
    "s_oo4 = s_o4[70:,:,:]-np.mean(s_o4[70:,:,:],axis=0)"
   ]
  },
  {
   "cell_type": "code",
   "execution_count": 4,
   "metadata": {},
   "outputs": [],
   "source": [
    "t_oo.to_netcdf(\"/work/uo1075/u241321/data/EN4_t_ym_remap_NA560.nc\")\n",
    "s_oo.to_netcdf(\"/work/uo1075/u241321/data/EN4_s_ym_remap_NA560.nc\")\n",
    "\n",
    "t_oo3.to_netcdf(\"/work/uo1075/u241321/data/Atlas_temperature.nc\")\n",
    "s_oo4.to_netcdf(\"/work/uo1075/u241321/data/Atlas_salinity.nc\")"
   ]
  }
 ],
 "metadata": {
  "kernelspec": {
   "display_name": "1 Python 3 (based on the module python3/2023.01)",
   "language": "python",
   "name": "python3_2023_01"
  },
  "language_info": {
   "codemirror_mode": {
    "name": "ipython",
    "version": 3
   },
   "file_extension": ".py",
   "mimetype": "text/x-python",
   "name": "python",
   "nbconvert_exporter": "python",
   "pygments_lexer": "ipython3",
   "version": "3.10.10"
  }
 },
 "nbformat": 4,
 "nbformat_minor": 4
}
