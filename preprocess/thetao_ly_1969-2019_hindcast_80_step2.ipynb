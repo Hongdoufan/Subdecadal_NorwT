{
 "cells": [
  {
   "cell_type": "code",
   "execution_count": 1,
   "metadata": {},
   "outputs": [],
   "source": [
    "import xarray as xr\n",
    "import numpy as np\n",
    "import glob\n",
    "import matplotlib.pyplot as plt\n",
    "import cartopy.crs as ccrs\n",
    "import netCDF4\n",
    "import pandas as pd\n",
    "# import xesmf as xe\n",
    "from scipy import signal"
   ]
  },
  {
   "cell_type": "code",
   "execution_count": 2,
   "metadata": {
    "tags": []
   },
   "outputs": [],
   "source": [
    "data      = xr.load_dataset(\"/work/uo1075/u241321/data/thetao_ly_1969-2019_hindcast_80_step1.nc\",decode_times=False) \n",
    "# data"
   ]
  },
  {
   "cell_type": "code",
   "execution_count": 3,
   "metadata": {
    "tags": []
   },
   "outputs": [],
   "source": [
    "ds = data ['thetao'][:,:,0:21,:,:]\n",
    "# ds"
   ]
  },
  {
   "cell_type": "code",
   "execution_count": 4,
   "metadata": {},
   "outputs": [],
   "source": [
    "# A reshaped DataArray. In the example in the function comment it would correspond to an array like\n",
    "\n",
    "#In[1] Ar.dims\n",
    "#Out[1]: ('year', 'month', 'lat', 'lon')\n",
    "\n",
    "def xr_reshape(A, dim, newdims, coords):\n",
    "    \"\"\" Reshape DataArray A to convert its dimension dim into sub-dimensions given by\n",
    "    newdims and the corresponding coords.\n",
    "    Example: Ar = xr_reshape(A, 'time', ['year', 'month'], [(2017, 2018), np.arange(12)]) \"\"\"\n",
    "\n",
    "\n",
    "    # Create a pandas MultiIndex from these labels\n",
    "    ind = pd.MultiIndex.from_product(coords, names=newdims)\n",
    "\n",
    "    # Replace the time index in the DataArray by this new index,\n",
    "    A1 = A.copy()\n",
    "\n",
    "    A1.coords[dim] = ind\n",
    "    \n",
    "    # Convert multiindex to individual dims using DataArray.unstack().\n",
    "    # This changes dimension order! The new dimensions are at the end.\n",
    "    A1 = A1.unstack(dim)\n",
    "\n",
    "    # Permute to restore dimensions\n",
    "    i = A.dims.index(dim)\n",
    "    dims = list(A1.dims)\n",
    "\n",
    "    for d in newdims[::-1]:\n",
    "        dims.insert(i, d)\n",
    "\n",
    "    for d in newdims:\n",
    "        _ = dims.pop(-1)\n",
    "\n",
    "\n",
    "    return A1.transpose(*dims)\n",
    "\n",
    "\n"
   ]
  },
  {
   "cell_type": "code",
   "execution_count": 5,
   "metadata": {},
   "outputs": [],
   "source": [
    "ds_r = xr_reshape(ds, 'ensemble', ['member', 'lead_year'], [np.arange(1,81),np.arange(1,11),])"
   ]
  },
  {
   "cell_type": "code",
   "execution_count": 6,
   "metadata": {
    "tags": []
   },
   "outputs": [],
   "source": [
    "annual_prediction = ds_r.transpose(\"time\", \"member\", \"lead_year\", \"depth\", \"lat\", \"lon\") # \n",
    "dat = np.mean(annual_prediction,axis=0)\n",
    "dif = annual_prediction-dat\n",
    "# dif"
   ]
  },
  {
   "cell_type": "code",
   "execution_count": 7,
   "metadata": {},
   "outputs": [],
   "source": [
    "dif.to_netcdf(\"/work/uo1075/u241321/data/thetao_ly_1970-2019_hindcast80.nc\")"
   ]
  },
  {
   "cell_type": "code",
   "execution_count": 7,
   "metadata": {},
   "outputs": [],
   "source": [
    "dropped = annual_prediction.stack(feature=(\"member\",\"lead_year\",\"depth\",\"lat\",\"lon\")).dropna(dim=\"feature\")\n",
    "detrend = signal.detrend(dropped ,axis=0)\n",
    "feature = dropped .coords[\"feature\"]\n",
    "time = dropped .coords[\"time\"]\n",
    "detrend = xr.DataArray(detrend, dims = [\"time\",\"feature\"], coords = {\"time\":time,\"feature\":feature}).unstack()\n",
    "detrend.to_netcdf(\"/work/uo1075/u241321/data/thetao_ly_1970-2019_hindcast80_dt.nc\")"
   ]
  },
  {
   "cell_type": "code",
   "execution_count": null,
   "metadata": {},
   "outputs": [],
   "source": []
  }
 ],
 "metadata": {
  "kernelspec": {
   "display_name": "1 Python 3 (based on the module python3/2023.01)",
   "language": "python",
   "name": "python3_2023_01"
  },
  "language_info": {
   "codemirror_mode": {
    "name": "ipython",
    "version": 3
   },
   "file_extension": ".py",
   "mimetype": "text/x-python",
   "name": "python",
   "nbconvert_exporter": "python",
   "pygments_lexer": "ipython3",
   "version": "3.10.10"
  }
 },
 "nbformat": 4,
 "nbformat_minor": 4
}
