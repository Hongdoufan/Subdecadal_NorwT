{
 "cells": [
  {
   "cell_type": "code",
   "execution_count": 1,
   "metadata": {},
   "outputs": [],
   "source": [
    "import cartopy.crs as ccrs\n",
    "import cartopy.feature as cfeature\n",
    "import matplotlib.gridspec as gridspec\n",
    "import matplotlib.pyplot as plt\n",
    "import metpy.calc as mpcalc\n",
    "import numpy as np\n",
    "import xarray as xr\n",
    "import cmocean.cm as cmo"
   ]
  },
  {
   "cell_type": "code",
   "execution_count": 2,
   "metadata": {
    "tags": []
   },
   "outputs": [],
   "source": [
    "# \n",
    "nao = np.load('/work/uo1075/u241321/data/eemd_NAO_DJF.npy')  # \n",
    "y = nao[2,:]\n",
    "\n",
    "assi = np.load(\"/work/uo1075/u241321/data/eemd_t310_Norwegian.npy\") # mode(c1-c4), time\n",
    "hind  = np.load(\"/work/uo1075/u241321/data/hind_eemd_t_80.npy\") # (5,50,10) mode(input, c1-c4), station, time, lead year\n",
    "ly = 10\n",
    "\n",
    "mode = 4+1 # mode(input, c1-c4)\n"
   ]
  },
  {
   "cell_type": "code",
   "execution_count": 4,
   "metadata": {
    "tags": []
   },
   "outputs": [],
   "source": [
    "acc = np.zeros((3,mode,ly)) # weak/strong/neutral; mode(input, c1-c4), station, lead year\n",
    "acc_nao = np.zeros((3,ly))\n",
    "\n",
    "ny = 50\n",
    "events = np.zeros((ny))\n",
    "w=-1\n",
    "ne=0\n",
    "strong=1\n",
    "\n",
    "for m in range(0,mode,1):    # mode \n",
    "      for n in range(0,ly,1):\n",
    "            for i in range(0,ny-n,1):\n",
    "                if y[i] <= -np.std(y)*0.5:\n",
    "                     events[i+n] = w\n",
    "                elif y[i] >= np.std(y)*0.5:\n",
    "                     events[i+n] = strong\n",
    "                else:\n",
    "                     events[i+n] = ne  \n",
    "                        \n",
    "        \n",
    "            acc[0,m,n] = np.corrcoef(assi[m,n::][events[n::]==w], hind[m,n::,n][events[n::]==w])[0,1]\n",
    "            acc[1,m,n] = np.corrcoef(assi[m,n::][events[n::]==strong], hind[m,n::,n][events[n::]==strong])[0,1]\n",
    "            acc[2,m,n] = np.corrcoef(assi[m,n::][events[n::]==ne], hind[m,n::,n][events[n::]==ne])[0,1]\n",
    "      "
   ]
  },
  {
   "cell_type": "code",
   "execution_count": 5,
   "metadata": {},
   "outputs": [
    {
     "data": {
      "text/plain": [
       "-0.554295703568273"
      ]
     },
     "execution_count": 5,
     "metadata": {},
     "output_type": "execute_result"
    }
   ],
   "source": [
    "acc[1,2,0]  # acc of T C2 for NAO+ year at lead year 1  #\n",
    "acc[0,2,0] # acc of T C2 for NAO- year at lead year 1\n",
    "acc[1,2,5]  # acc of T C2 for NAO+ year at lead year 6\n",
    "acc[0,2,5] # acc of T C2 for NAO- year at lead year 6"
   ]
  },
  {
   "cell_type": "code",
   "execution_count": 6,
   "metadata": {
    "tags": []
   },
   "outputs": [
    {
     "data": {
      "text/plain": [
       "0.16473412277373767"
      ]
     },
     "execution_count": 6,
     "metadata": {},
     "output_type": "execute_result"
    }
   ],
   "source": [
    "acc[0,2,0] # acc of T C2 for NAO- year at lead year 1"
   ]
  },
  {
   "cell_type": "code",
   "execution_count": 7,
   "metadata": {
    "tags": []
   },
   "outputs": [
    {
     "data": {
      "text/plain": [
       "0.8790859024184654"
      ]
     },
     "execution_count": 7,
     "metadata": {},
     "output_type": "execute_result"
    }
   ],
   "source": [
    "acc[1,2,0]"
   ]
  },
  {
   "cell_type": "code",
   "execution_count": 8,
   "metadata": {
    "tags": []
   },
   "outputs": [
    {
     "data": {
      "text/plain": [
       "0.20589809123960118"
      ]
     },
     "execution_count": 8,
     "metadata": {},
     "output_type": "execute_result"
    }
   ],
   "source": [
    "acc[1,2,5]"
   ]
  },
  {
   "cell_type": "code",
   "execution_count": null,
   "metadata": {},
   "outputs": [],
   "source": [
    "# ACC of NAO \n",
    "y_h = np.load(\"/work/uo1075/u241321/data/eemd_NAO_DJF_ly1_hind80_dt.npy\")\n",
    "nao_h = y_h[2,:]+y_h[3,:]+y_h[4,:]"
   ]
  }
 ],
 "metadata": {
  "kernelspec": {
   "display_name": "1 Python 3 (based on the module python3/2023.01)",
   "language": "python",
   "name": "python3_2023_01"
  },
  "language_info": {
   "codemirror_mode": {
    "name": "ipython",
    "version": 3
   },
   "file_extension": ".py",
   "mimetype": "text/x-python",
   "name": "python",
   "nbconvert_exporter": "python",
   "pygments_lexer": "ipython3",
   "version": "3.10.10"
  }
 },
 "nbformat": 4,
 "nbformat_minor": 4
}
