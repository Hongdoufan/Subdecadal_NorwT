{
 "cells": [
  {
   "cell_type": "code",
   "execution_count": 1,
   "metadata": {},
   "outputs": [],
   "source": [
    "import cartopy.crs as ccrs\n",
    "import cartopy.feature as cfeature\n",
    "import matplotlib.gridspec as gridspec\n",
    "import matplotlib.pyplot as plt\n",
    "import metpy.calc as mpcalc\n",
    "import numpy as np\n",
    "import xarray as xr\n",
    "import glob\n",
    "import matplotlib.ticker as mticker\n",
    "import cartopy.feature as cfeature\n",
    "import cartopy.io.shapereader as shpreader\n",
    "from cartopy.mpl.gridliner import LONGITUDE_FORMATTER, LATITUDE_FORMATTER\n",
    "import pandas as pd\n",
    "import cmocean.cm as cmo"
   ]
  },
  {
   "cell_type": "code",
   "execution_count": 2,
   "metadata": {},
   "outputs": [],
   "source": [
    "# get dataset \n",
    "lat_min, lat_max = (20,90) #\n",
    "lon_min, lon_max = (-80,70)\n",
    "\n",
    "\n",
    "nao = np.load(\"/work/uo1075/u241321/data/eemd_t310_assi_Norwegian.npy\")\n",
    "NAO = nao[2,:] # remove non-linear trend and standardize \n",
    "y = NAO\n",
    "\n",
    "data_x = xr.open_dataset('/work/uo1075/u241321/data/hfx_1970-2019_assi_dt.nc', decode_times=False)  # unit: w\n",
    "data_y = xr.open_dataset('/work/uo1075/u241321/data/hfy_1970-2019_assi_dt.nc', decode_times=False)\n",
    "\n",
    "var_x = np.mean(data_x['__xarray_dataarray_variable__'].sel(lat=slice(lat_min, lat_max), lon=slice(lon_min, lon_max)), axis=1) \n",
    "var_y = np.mean(data_y['__xarray_dataarray_variable__'].sel(lat=slice(lat_min, lat_max), lon=slice(lon_min, lon_max)), axis=1) \n",
    "\n",
    "\n"
   ]
  },
  {
   "cell_type": "code",
   "execution_count": 3,
   "metadata": {
    "tags": []
   },
   "outputs": [],
   "source": [
    "# regression onto x and y transport respectively, then calculate manitude with direction\n",
    "\n",
    "field_x = var_x.stack(spatial=('lat','lon')).dropna(dim=\"spatial\") #time,space\n",
    "\n",
    "nn = 6 # number of regression year\n",
    "\n",
    "\n",
    "from sklearn.linear_model import LinearRegression\n",
    "def regression(x,y):\n",
    "\n",
    "    coef = LinearRegression(fit_intercept=True).fit(x.reshape(-1, 1), y.values.reshape(-1, 1)).coef_\n",
    "    \n",
    "\n",
    "    return coef\n",
    "\n",
    "\n",
    "# regression, center on 4-47, 44 year (start from 0)\n",
    "\n",
    "coe_x = np.zeros((nn, field_x.shape[1]))\n",
    "\n",
    "for m in range(0,field_x.shape[1],1):\n",
    "        coe_x[0,m] = regression(y[5:49], field_x[0:44,m])\n",
    "        coe_x[1,m] = regression(y[5:49], field_x[1:45,m])\n",
    "        coe_x[2,m] = regression(y[5:49], field_x[2:46,m])\n",
    "        coe_x[3,m] = regression(y[5:49], field_x[3:47,m])\n",
    "        coe_x[4,m] = regression(y[5:49], field_x[4:48,m])\n",
    "        coe_x[5,m] = regression(y[5:49], field_x[5:49,m])\n",
    "       \n"
   ]
  },
  {
   "cell_type": "code",
   "execution_count": 4,
   "metadata": {
    "tags": []
   },
   "outputs": [],
   "source": [
    "coe_x = xr.DataArray(coe_x,  \n",
    "                    dims=['mode','spatial'],\n",
    "                    coords=dict(\n",
    "                        spatial=field_x.spatial,\n",
    "                         mode=np.arange(1,nn+1,1))\n",
    "                    , )\n",
    "# field = var.stack(spatial=('lat','lon')).dropna(dim=\"spatial\") #time,space\n",
    "spatial = field_x .coords[\"spatial\"]\n",
    "mode = coe_x .coords[\"mode\"]\n",
    "reg_x = xr.DataArray(coe_x, dims = [\"mode\",\"spatial\"], coords = {\"mode\":mode,\"spatial\":spatial}).unstack()  \n"
   ]
  },
  {
   "cell_type": "code",
   "execution_count": 5,
   "metadata": {
    "tags": []
   },
   "outputs": [],
   "source": [
    "field_y = var_y.stack(spatial=('lat','lon')).dropna(dim=\"spatial\") #time,space\n",
    "coe_y = np.zeros((nn, field_y.shape[1]))\n",
    "\n",
    "for m in range(0,field_y.shape[1],1):\n",
    "        coe_y[0,m] = regression(y[5:49], field_y[0:44,m])\n",
    "        coe_y[1,m] = regression(y[5:49], field_y[1:45,m])\n",
    "        coe_y[2,m] = regression(y[5:49], field_y[2:46,m])\n",
    "        coe_y[3,m] = regression(y[5:49], field_y[3:47,m])\n",
    "        coe_y[4,m] = regression(y[5:49], field_y[4:48,m])\n",
    "        coe_y[5,m] = regression(y[5:49], field_y[5:49,m])\n"
   ]
  },
  {
   "cell_type": "code",
   "execution_count": 6,
   "metadata": {},
   "outputs": [],
   "source": [
    "coe_y = xr.DataArray(coe_y,  \n",
    "                    dims=['mode','spatial'],\n",
    "                    coords=dict(\n",
    "                        spatial=field_y.spatial,\n",
    "                         mode=np.arange(1,nn+1,1))\n",
    "                    , )\n",
    "\n",
    "spatial_y = field_y .coords[\"spatial\"]\n",
    "reg_y = xr.DataArray(coe_y, dims = [\"mode\",\"spatial\"], coords = {\"mode\":mode,\"spatial\":spatial_y}).unstack()        \n",
    "lon = reg_x.lon\n",
    "lat = reg_x.lat"
   ]
  },
  {
   "cell_type": "code",
   "execution_count": 7,
   "metadata": {
    "tags": []
   },
   "outputs": [],
   "source": [
    "x = reg_x.stack(spatial=('mode','lat','lon'))\n",
    "y = reg_y.stack(spatial=('mode','lat','lon'))\n",
    "spatial = x.coords[\"spatial\"]"
   ]
  },
  {
   "cell_type": "code",
   "execution_count": 8,
   "metadata": {
    "tags": []
   },
   "outputs": [],
   "source": [
    "from multiprocessing import Pool\n",
    "from itertools import product\n",
    "from itertools import starmap\n",
    "\n",
    "def mask_insignificant(data1, data2):\n",
    "    \n",
    "    mode1 = np.where(np.sqrt(data1*data1+data2*data2) >= 1e+13 , data1, np.NaN )\n",
    "    mode2 = np.where(np.sqrt(data1*data1+data2*data2) >= 1e+13, data2, np.NaN )\n",
    "    \n",
    "    return mode1, mode2\n",
    "\n",
    "\n",
    "def grid_mask(m):\n",
    "    \n",
    "    mode = mask_insignificant(x[m], y[m])\n",
    "    \n",
    "    return mode\n",
    "\n",
    "\n",
    "res = Pool().map(grid_mask,np.arange(0,x.shape[0],1))\n",
    "re = np.array(res)\n",
    "# output \n",
    "reg_transx = xr.DataArray(re[:,0], dims = [\"spatial\"], coords = {\"spatial\":spatial}).unstack()    \n",
    "reg_transy = xr.DataArray(re[:,1], dims = [\"spatial\"], coords = {\"spatial\":spatial}).unstack()    "
   ]
  },
  {
   "cell_type": "code",
   "execution_count": 10,
   "metadata": {
    "tags": []
   },
   "outputs": [],
   "source": [
    "reg_transx.to_netcdf(\"/work/uo1075/u241321/data/reg_transx_T_c2_44_mask.nc\")\n",
    "reg_transy.to_netcdf(\"/work/uo1075/u241321/data/reg_transy_T_c2_44_mask.nc\")"
   ]
  },
  {
   "cell_type": "code",
   "execution_count": null,
   "metadata": {},
   "outputs": [],
   "source": []
  }
 ],
 "metadata": {
  "kernelspec": {
   "display_name": "1 Python 3 (based on the module python3/2023.01)",
   "language": "python",
   "name": "python3_2023_01"
  },
  "language_info": {
   "codemirror_mode": {
    "name": "ipython",
    "version": 3
   },
   "file_extension": ".py",
   "mimetype": "text/x-python",
   "name": "python",
   "nbconvert_exporter": "python",
   "pygments_lexer": "ipython3",
   "version": "3.10.10"
  }
 },
 "nbformat": 4,
 "nbformat_minor": 4
}
