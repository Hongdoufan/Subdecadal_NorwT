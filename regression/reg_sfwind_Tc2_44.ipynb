{
 "cells": [
  {
   "cell_type": "code",
   "execution_count": 1,
   "metadata": {},
   "outputs": [],
   "source": [
    "import cartopy.crs as ccrs\n",
    "import cartopy.feature as cfeature\n",
    "import matplotlib.gridspec as gridspec\n",
    "import matplotlib.pyplot as plt\n",
    "import metpy.calc as mpcalc\n",
    "import numpy as np\n",
    "import xarray as xr\n",
    "import glob\n",
    "import matplotlib.ticker as mticker\n",
    "import cartopy.feature as cfeature\n",
    "import cartopy.io.shapereader as shpreader\n",
    "from cartopy.mpl.gridliner import LONGITUDE_FORMATTER, LATITUDE_FORMATTER\n",
    "import pandas as pd\n",
    "import cmocean.cm as cmo"
   ]
  },
  {
   "cell_type": "code",
   "execution_count": 2,
   "metadata": {},
   "outputs": [],
   "source": [
    "# get dataset \n",
    "\n",
    "nao = np.load(\"/work/uo1075/u241321/data/eemd_t310_assi_Norwegian.npy\")\n",
    "NAO = nao[2,:] # remove non-linear trend and standardize \n",
    "y = NAO\n",
    "\n",
    "data_x = xr.open_dataset('/work/uo1075/u241321/data/uas_1969-2019_assi_dt.nc', decode_times=False)  # unit: m/s\n",
    "data_y = xr.open_dataset('/work/uo1075/u241321/data/vas_1969-2019_assi_dt.nc', decode_times=False)\n",
    "\n",
    "var_x = np.mean(data_x['__xarray_dataarray_variable__'], axis=1) \n",
    "var_y = np.mean(data_y['__xarray_dataarray_variable__'], axis=1) \n"
   ]
  },
  {
   "cell_type": "code",
   "execution_count": 3,
   "metadata": {
    "tags": []
   },
   "outputs": [],
   "source": [
    "# regression onto x and y transport respectively, then calculate manitude with direction\n",
    "\n",
    "field_x = var_x.stack(spatial=('lat','lon')).dropna(dim=\"spatial\") #time,space\n",
    "\n",
    "nn = 6 # number of regression year\n",
    "\n",
    "\n",
    "from sklearn.linear_model import LinearRegression\n",
    "def regression(x,y):\n",
    "\n",
    "    coef = LinearRegression(fit_intercept=True).fit(x.reshape(-1, 1), y.values.reshape(-1, 1)).coef_\n",
    "    \n",
    "\n",
    "    return coef\n",
    "\n",
    "# regression, center on 4-47, 44 year (start from 0)\n",
    "\n",
    "coe_x = np.zeros((nn, field_x.shape[1]))\n",
    "\n",
    "for m in range(0,field_x.shape[1],1):\n",
    "        coe_x[0,m] = regression(y[5:49], field_x[0:44,m])\n",
    "        coe_x[1,m] = regression(y[5:49], field_x[1:45,m])\n",
    "        coe_x[2,m] = regression(y[5:49], field_x[2:46,m])\n",
    "        coe_x[3,m] = regression(y[5:49], field_x[3:47,m])\n",
    "        coe_x[4,m] = regression(y[5:49], field_x[4:48,m])\n",
    "        coe_x[5,m] = regression(y[5:49], field_x[5:49,m])\n",
    "       \n"
   ]
  },
  {
   "cell_type": "code",
   "execution_count": 4,
   "metadata": {
    "tags": []
   },
   "outputs": [],
   "source": [
    "coe_x = xr.DataArray(coe_x,  \n",
    "                    dims=['mode','spatial'],\n",
    "                    coords=dict(\n",
    "                        spatial=field_x.spatial,\n",
    "                         mode=np.arange(1,nn+1,1))\n",
    "                    , )\n",
    "# field = var.stack(spatial=('lat','lon')).dropna(dim=\"spatial\") #time,space\n",
    "spatial = field_x .coords[\"spatial\"]\n",
    "mode = coe_x .coords[\"mode\"]\n",
    "reg_x = xr.DataArray(coe_x, dims = [\"mode\",\"spatial\"], coords = {\"mode\":mode,\"spatial\":spatial}).unstack()  \n"
   ]
  },
  {
   "cell_type": "code",
   "execution_count": 5,
   "metadata": {
    "tags": []
   },
   "outputs": [],
   "source": [
    "field_y = var_y.stack(spatial=('lat','lon')).dropna(dim=\"spatial\") #time,space\n",
    "coe_y = np.zeros((nn, field_y.shape[1]))\n",
    "\n",
    "for m in range(0,field_y.shape[1],1):\n",
    "        coe_y[0,m] = regression(y[5:49], field_y[0:44,m])\n",
    "        coe_y[1,m] = regression(y[5:49], field_y[1:45,m])\n",
    "        coe_y[2,m] = regression(y[5:49], field_y[2:46,m])\n",
    "        coe_y[3,m] = regression(y[5:49], field_y[3:47,m])\n",
    "        coe_y[4,m] = regression(y[5:49], field_y[4:48,m])\n",
    "        coe_y[5,m] = regression(y[5:49], field_y[5:49,m])\n"
   ]
  },
  {
   "cell_type": "code",
   "execution_count": 6,
   "metadata": {},
   "outputs": [],
   "source": [
    "coe_y = xr.DataArray(coe_y,  \n",
    "                    dims=['mode','spatial'],\n",
    "                    coords=dict(\n",
    "                        spatial=field_y.spatial,\n",
    "                         mode=np.arange(1,nn+1,1))\n",
    "                    , )\n",
    "\n",
    "spatial_y = field_y .coords[\"spatial\"]\n",
    "reg_y = xr.DataArray(coe_y, dims = [\"mode\",\"spatial\"], coords = {\"mode\":mode,\"spatial\":spatial_y}).unstack()        \n",
    "lon = reg_x.lon\n",
    "lat = reg_x.lat"
   ]
  },
  {
   "cell_type": "code",
   "execution_count": 7,
   "metadata": {
    "tags": []
   },
   "outputs": [],
   "source": [
    "reg_x.to_netcdf(\"/work/uo1075/u241321/data/reg_windx_T_c2_44.nc\")\n",
    "reg_y.to_netcdf(\"/work/uo1075/u241321/data/reg_windy_T_c2_44.nc\")"
   ]
  },
  {
   "cell_type": "code",
   "execution_count": 8,
   "metadata": {
    "tags": []
   },
   "outputs": [
    {
     "ename": "NameError",
     "evalue": "name 'ssh' is not defined",
     "output_type": "error",
     "traceback": [
      "\u001b[0;31m---------------------------------------------------------------------------\u001b[0m",
      "\u001b[0;31mNameError\u001b[0m                                 Traceback (most recent call last)",
      "Cell \u001b[0;32mIn[8], line 5\u001b[0m\n\u001b[1;32m      2\u001b[0m fig \u001b[38;5;241m=\u001b[39m plt\u001b[38;5;241m.\u001b[39mfigure(figsize\u001b[38;5;241m=\u001b[39m(\u001b[38;5;241m12\u001b[39m,\u001b[38;5;241m8\u001b[39m));\n\u001b[1;32m      3\u001b[0m ax \u001b[38;5;241m=\u001b[39m plt\u001b[38;5;241m.\u001b[39maxes(projection\u001b[38;5;241m=\u001b[39mccrs\u001b[38;5;241m.\u001b[39mPlateCarree())\n\u001b[0;32m----> 5\u001b[0m p1 \u001b[38;5;241m=\u001b[39m \u001b[43mssh\u001b[49m[\u001b[38;5;241m0\u001b[39m]\u001b[38;5;241m.\u001b[39mplot\u001b[38;5;241m.\u001b[39mcontourf(ax\u001b[38;5;241m=\u001b[39max, x\u001b[38;5;241m=\u001b[39m\u001b[38;5;124m'\u001b[39m\u001b[38;5;124mlon\u001b[39m\u001b[38;5;124m'\u001b[39m, y\u001b[38;5;241m=\u001b[39m\u001b[38;5;124m'\u001b[39m\u001b[38;5;124mlat\u001b[39m\u001b[38;5;124m'\u001b[39m,levels \u001b[38;5;241m=\u001b[39m np\u001b[38;5;241m.\u001b[39marange(\u001b[38;5;241m-\u001b[39m\u001b[38;5;241m8\u001b[39m, \u001b[38;5;241m9\u001b[39m, \u001b[38;5;241m1\u001b[39m), \n\u001b[1;32m      6\u001b[0m                               cmap\u001b[38;5;241m=\u001b[39m\u001b[38;5;124m'\u001b[39m\u001b[38;5;124mRdBu_r\u001b[39m\u001b[38;5;124m'\u001b[39m,\n\u001b[1;32m      7\u001b[0m                               extend \u001b[38;5;241m=\u001b[39m \u001b[38;5;124m'\u001b[39m\u001b[38;5;124mboth\u001b[39m\u001b[38;5;124m'\u001b[39m, add_colorbar\u001b[38;5;241m=\u001b[39m\u001b[38;5;28;01mFalse\u001b[39;00m, add_labels\u001b[38;5;241m=\u001b[39m\u001b[38;5;28;01mFalse\u001b[39;00m)\n\u001b[1;32m      9\u001b[0m p \u001b[38;5;241m=\u001b[39m plt\u001b[38;5;241m.\u001b[39mquiver( lon[::\u001b[38;5;241m4\u001b[39m], lat[::\u001b[38;5;241m4\u001b[39m], reg_x [\u001b[38;5;241m0\u001b[39m,::\u001b[38;5;241m4\u001b[39m,::\u001b[38;5;241m4\u001b[39m], reg_y[\u001b[38;5;241m0\u001b[39m,::\u001b[38;5;241m4\u001b[39m,::\u001b[38;5;241m4\u001b[39m], scale \u001b[38;5;241m=\u001b[39m \u001b[38;5;241m10\u001b[39m, scale_units \u001b[38;5;241m=\u001b[39m \u001b[38;5;124m'\u001b[39m\u001b[38;5;124minches\u001b[39m\u001b[38;5;124m'\u001b[39m)  \u001b[38;5;66;03m# ,\u001b[39;00m\n\u001b[1;32m     10\u001b[0m \u001b[38;5;66;03m# scale: Scales the length of the arrow inversely..Number of data units per arrow length unit, e.g., m/s per plot width; a smaller scale parameter makes the arrow longer.\u001b[39;00m\n\u001b[1;32m     11\u001b[0m \u001b[38;5;66;03m# scale_units: If the scale kwarg is None, the arrow length unit. Default is None.\u001b[39;00m\n\u001b[1;32m     12\u001b[0m \u001b[38;5;66;03m# e.g. scale_units is 'inches', scale is 2.0, and (u, v) = (1, 0), then the vector will be 0.5 inches long.\u001b[39;00m\n\u001b[1;32m     13\u001b[0m \n\u001b[1;32m     14\u001b[0m \u001b[38;5;66;03m#ax.coastlines()\u001b[39;00m\n",
      "\u001b[0;31mNameError\u001b[0m: name 'ssh' is not defined"
     ]
    },
    {
     "data": {
      "image/png": "[encoded data removed]",
      "text/plain": [
       "<Figure size 1200x800 with 1 Axes>"
      ]
     },
     "metadata": {},
     "output_type": "display_data"
    }
   ],
   "source": [
    "\n",
    "\n",
    "# cc = corr\n",
    "fig = plt.figure(figsize=(12,8));\n",
    "ax = plt.axes(projection=ccrs.PlateCarree())\n",
    "\n",
    "p1 = ssh[0].plot.contourf(ax=ax, x='lon', y='lat',levels = np.arange(-8, 9, 1), \n",
    "                              cmap='RdBu_r',\n",
    "                              extend = 'both', add_colorbar=False, add_labels=False)\n",
    "\n",
    "p = plt.quiver( lon[::4], lat[::4], reg_x [0,::4,::4], reg_y[0,::4,::4], scale = 10, scale_units = 'inches')  # ,\n",
    "# scale: Scales the length of the arrow inversely..Number of data units per arrow length unit, e.g., m/s per plot width; a smaller scale parameter makes the arrow longer.\n",
    "# scale_units: If the scale kwarg is None, the arrow length unit. Default is None.\n",
    "# e.g. scale_units is 'inches', scale is 2.0, and (u, v) = (1, 0), then the vector will be 0.5 inches long.\n",
    "\n",
    "#ax.coastlines()\n",
    "ax.add_feature(cfeature.NaturalEarthFeature('physical', 'coastline', '50m',\n",
    "                                              edgecolor='0.3',\n",
    "                                              facecolor='none'))\n",
    "\n",
    "gl = ax.gridlines(crs=ccrs.PlateCarree(), draw_labels=True,\n",
    "                  linewidth=1, color='gray', alpha=0.5, linestyle='--')\n",
    "gl.xlines = True\n",
    "gl.ylines = True\n",
    "ax.set_extent([-80,60,30,90])\n",
    "gl.xlocator = mticker.FixedLocator(np.arange(-80,90,10))\n",
    "gl.ylocator = mticker.FixedLocator(np.arange(50,90,10)) #([30,60],180)\n",
    "\n",
    "\n",
    "gl.xformatter = LONGITUDE_FORMATTER\n",
    "gl.yformatter = LATITUDE_FORMATTER\n",
    "gl.xlabel_style = {'size': 11, 'color': 'k','rotation':0}\n",
    "gl.ylabel_style = {'size':11,'rotation':0}\n",
    "plt.title('-1 yr', y=1, size = '19', loc = 'left', pad = 7)\n",
    "cax = fig.add_axes([0.216, 0.12, 0.6, 0.03])\n",
    "cb = plt.colorbar(p1, cax=cax, orientation='horizontal')\n",
    "\n",
    "\n",
    "\n",
    "# cbar = plt.colorbar(p, orientation='vertical', shrink=0.8, pad = 0.1)\n",
    "# cbar.set_label(' ', size= 15)\n",
    "ax.set_title(' ',size = '15', pad = 30)"
   ]
  },
  {
   "cell_type": "code",
   "execution_count": null,
   "metadata": {
    "tags": []
   },
   "outputs": [],
   "source": [
    "\n",
    "\n",
    "# cc = corr\n",
    "fig = plt.figure(figsize=(12,8));\n",
    "ax = plt.axes(projection=ccrs.PlateCarree())\n",
    "\n",
    "p1 = ssh[1].plot.contourf(ax=ax, x='lon', y='lat',levels = np.arange(-8, 9, 1), \n",
    "                              cmap='RdBu_r',\n",
    "                              extend = 'both', add_colorbar=False, add_labels=False)\n",
    "\n",
    "p = plt.quiver( lon[::4], lat[::4], reg_x [1,::4,::4], reg_y[1,::4,::4], scale = 10, scale_units = 'inches')  # ,\n",
    "# scale: Scales the length of the arrow inversely..Number of data units per arrow length unit, e.g., m/s per plot width; a smaller scale parameter makes the arrow longer.\n",
    "# scale_units: If the scale kwarg is None, the arrow length unit. Default is None.\n",
    "# e.g. scale_units is 'inches', scale is 2.0, and (u, v) = (1, 0), then the vector will be 0.5 inches long.\n",
    "\n",
    "#ax.coastlines()\n",
    "ax.add_feature(cfeature.NaturalEarthFeature('physical', 'coastline', '50m',\n",
    "                                              edgecolor='0.3',\n",
    "                                              facecolor='none'))\n",
    "\n",
    "gl = ax.gridlines(crs=ccrs.PlateCarree(), draw_labels=True,\n",
    "                  linewidth=1, color='gray', alpha=0.5, linestyle='--')\n",
    "gl.xlines = True\n",
    "gl.ylines = True\n",
    "ax.set_extent([-80,60,30,90])\n",
    "gl.xlocator = mticker.FixedLocator(np.arange(-80,90,10))\n",
    "gl.ylocator = mticker.FixedLocator(np.arange(50,90,10)) #([30,60],180)\n",
    "\n",
    "\n",
    "gl.xformatter = LONGITUDE_FORMATTER\n",
    "gl.yformatter = LATITUDE_FORMATTER\n",
    "gl.xlabel_style = {'size': 11, 'color': 'k','rotation':0}\n",
    "gl.ylabel_style = {'size':11,'rotation':0}\n",
    "plt.title('0 yr', y=1, size = '19', loc = 'left', pad = 7)\n",
    "cax = fig.add_axes([0.216, 0.12, 0.6, 0.03])\n",
    "cb = plt.colorbar(p1, cax=cax, orientation='horizontal')\n",
    "\n",
    "\n",
    "\n",
    "# cbar = plt.colorbar(p, orientation='vertical', shrink=0.8, pad = 0.1)\n",
    "# cbar.set_label(' ', size= 15)\n",
    "ax.set_title(' ',size = '15', pad = 30)"
   ]
  },
  {
   "cell_type": "code",
   "execution_count": null,
   "metadata": {
    "tags": []
   },
   "outputs": [],
   "source": [
    "\n",
    "\n",
    "# cc = corr\n",
    "fig = plt.figure(figsize=(12,8));\n",
    "ax = plt.axes(projection=ccrs.PlateCarree())\n",
    "\n",
    "p1 = ssh[2].plot.contourf(ax=ax, x='lon', y='lat',levels = np.arange(-8, 9, 1), \n",
    "                              cmap='RdBu_r',\n",
    "                              extend = 'both', add_colorbar=False, add_labels=False)\n",
    "\n",
    "p = plt.quiver( lon[::4], lat[::4], reg_x [2,::4,::4], reg_y[2,::4,::4], scale = 10, scale_units = 'inches')  # ,\n",
    "# scale: Scales the length of the arrow inversely..Number of data units per arrow length unit, e.g., m/s per plot width; a smaller scale parameter makes the arrow longer.\n",
    "# scale_units: If the scale kwarg is None, the arrow length unit. Default is None.\n",
    "# e.g. scale_units is 'inches', scale is 2.0, and (u, v) = (1, 0), then the vector will be 0.5 inches long.\n",
    "\n",
    "#ax.coastlines()\n",
    "ax.add_feature(cfeature.NaturalEarthFeature('physical', 'coastline', '50m',\n",
    "                                              edgecolor='0.3',\n",
    "                                              facecolor='none'))\n",
    "gl = ax.gridlines(crs=ccrs.PlateCarree(), draw_labels=True,\n",
    "                  linewidth=1, color='gray', alpha=0.5, linestyle='--')\n",
    "gl.xlines = True\n",
    "gl.ylines = True\n",
    "ax.set_extent([-80,60,30,90])\n",
    "gl.xlocator = mticker.FixedLocator(np.arange(-80,90,10))\n",
    "gl.ylocator = mticker.FixedLocator(np.arange(50,90,10)) #([30,60],180)\n",
    "\n",
    "\n",
    "gl.xformatter = LONGITUDE_FORMATTER\n",
    "gl.yformatter = LATITUDE_FORMATTER\n",
    "gl.xlabel_style = {'size': 11, 'color': 'k','rotation':0}\n",
    "gl.ylabel_style = {'size':11,'rotation':0}\n",
    "plt.title('1 yr', y=1, size = '19', loc = 'left', pad = 7)\n",
    "cax = fig.add_axes([0.216, 0.12, 0.6, 0.03])\n",
    "cb = plt.colorbar(p1, cax=cax, orientation='horizontal')\n",
    "\n",
    "\n",
    "\n",
    "# cbar = plt.colorbar(p, orientation='vertical', shrink=0.8, pad = 0.1)\n",
    "# cbar.set_label(' ', size= 15)\n",
    "ax.set_title(' ',size = '15', pad = 30)"
   ]
  },
  {
   "cell_type": "code",
   "execution_count": null,
   "metadata": {},
   "outputs": [],
   "source": []
  }
 ],
 "metadata": {
  "kernelspec": {
   "display_name": "1 Python 3 (based on the module python3/2023.01)",
   "language": "python",
   "name": "python3_2023_01"
  },
  "language_info": {
   "codemirror_mode": {
    "name": "ipython",
    "version": 3
   },
   "file_extension": ".py",
   "mimetype": "text/x-python",
   "name": "python",
   "nbconvert_exporter": "python",
   "pygments_lexer": "ipython3",
   "version": "3.10.10"
  }
 },
 "nbformat": 4,
 "nbformat_minor": 4
}
