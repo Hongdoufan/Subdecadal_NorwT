{
 "cells": [
  {
   "cell_type": "code",
   "execution_count": 5,
   "id": "abc38ba2-d07c-4c80-abde-52933337d0a7",
   "metadata": {
    "tags": []
   },
   "outputs": [],
   "source": [
    "# lead lag pearson correlation, negative values indicate data1 leads data2, n is the lead lag step\n",
    "# the time length for correlation is sample-n; for example, for 50 years sample,\n",
    "# if 10 yrs leadlag is choosen, the time length is 40 yrs, if lagyear =7, it will be maxmum lead year 7 and lag year 7\n",
    "\n",
    "import pandas as pd\n",
    "import xarray as xr\n",
    "import numpy as np\n",
    "\n",
    "na = np.load(\"/work/uo1075/u241321/data/eemd_NAO_DJF.npy\")   # linealy detrened for each grid point  \n",
    "nao = na[2,:]\n",
    "\n",
    "\n",
    "T = np.load(\"/work/uo1075/u241321/data/eemd_t310_assi_Norwegian.npy\")[2,:]\n",
    "rawcorr      = np.load(\"/work/uo1075/u241321/data/leadlag_NAO_T_c2.npy\")\n",
    "\n",
    "\n"
   ]
  },
  {
   "cell_type": "code",
   "execution_count": 6,
   "id": "d19e5bb1-2995-436b-b5d1-fe21ade221df",
   "metadata": {
    "tags": []
   },
   "outputs": [],
   "source": [
    "# lead-lag correlation\n",
    "from scipy.stats import pearsonr\n",
    "import numpy as np\n",
    "\n",
    "# lead lag pearson correlation, negative values indicate data1 leads data2, n is the lead lag step\n",
    "# the time length for correlation is sample-n; for example, for 50 years sample,\n",
    "# if 10 yrs leadlag is choosen, the time length is 40 yrs\n",
    "\n",
    "def leadlagcor(data1,data2,n):\n",
    "    a=-n\n",
    "    b=-a\n",
    "    c=b*2+1\n",
    "    x=np.arange(-n,n+1,1)\n",
    "    r=np.zeros((c,1))\n",
    "    p=np.zeros((c,1))\n",
    "    begin=x[c-1]\n",
    "    end=len(data1)-x[c-1]\n",
    "    \n",
    "    for i in range(c):\n",
    "        if i<=(b):\n",
    "            r[n-i],p[n-i]=pearsonr(data1[:end], data2[i:end+i])\n",
    "        else:\n",
    "            r[i],p[i]=pearsonr(data1[x[i]:end+x[i]], data2[:end])\n",
    "    return r"
   ]
  },
  {
   "cell_type": "code",
   "execution_count": 7,
   "id": "c3ee7ee9-f029-40af-b706-604da57161a5",
   "metadata": {
    "tags": []
   },
   "outputs": [
    {
     "data": {
      "text/plain": [
       "array([0., 1., 1., 0., 0., 0., 1., 1., 0., 0., 1., 0., 0., 0., 0.])"
      ]
     },
     "execution_count": 7,
     "metadata": {},
     "output_type": "execute_result"
    }
   ],
   "source": [
    "# resampled_coef_data = []\n",
    "# # for sample in data:\n",
    "# resample = _bootstrap_resample(nao, T, nlagyear, block_length=block_length)\n",
    "# resampled_coef_data.append(resample)\n",
    "y1 = nao\n",
    "y2 = T\n",
    "nlagyear = 7\n",
    "c=2*nlagyear+1\n",
    "sig=np.zeros((2*nlagyear+1))\n",
    "block_length=2\n",
    "n_resamples=1000\n",
    "confidence_level=0.95\n",
    "\n",
    "for j in range(c):\n",
    "    \n",
    "    # bootstrap\n",
    "\n",
    "    def _bootstrap_resample(sample1, sample2, nlagyear, block_length, n_resamples=None, random_state=None):\n",
    "        \"\"\"Bootstrap resample the sample.\"\"\"\n",
    "   \n",
    "        np.random.shuffle(sample1.reshape((-1,block_length)))\n",
    "        rng_state = np.random.get_state()\n",
    "        np.random.set_state(rng_state)\n",
    "        np.random.shuffle(sample2.reshape((-1,block_length)))\n",
    "    \n",
    "    # resamples = sample\n",
    "        corr = leadlagcor(sample1, sample2, nlagyear)[j]\n",
    "    # bootstrap - each row is a random resample of original observations\n",
    "    # i = rng_integers(random_state, 0, n, (n_resamples, n))\n",
    "\n",
    "    # resamples = sample[..., i]\n",
    "        return corr\n",
    "    theta_hat_b = []\n",
    "    for k in range(0, n_resamples):\n",
    "        # batch_actual = min(batch_nominal, n_resamples-k)\n",
    "        # Generate resamples\n",
    "        # theta_hat_b = [] \n",
    "        resampled_coef_data = []\n",
    "        # for sample in data:\n",
    "        resample = _bootstrap_resample(y1, y2, nlagyear, block_length)\n",
    "        resampled_coef_data.append(resample)\n",
    "        theta_hat_b.append(resampled_coef_data)\n",
    "    theta_hat_b = np.concatenate(theta_hat_b, axis=-1)\n",
    "        # Calculate percentile interval\n",
    "    alpha = (1 - confidence_level)/2\n",
    "    \n",
    "    interval = alpha, 1-alpha\n",
    "\n",
    "    def percentile_fun(a, q):\n",
    "        return np.percentile(a=a, q=q, axis=-1)\n",
    "\n",
    "    # Calculate confidence interval of statistic\n",
    "    ci_l = percentile_fun(theta_hat_b, interval[0]*100)\n",
    "    ci_u = percentile_fun(theta_hat_b, interval[1]*100)\n",
    "\n",
    "    if rawcorr[j] >= ci_u:\n",
    "        sig[j] = 1\n",
    "    else:\n",
    "        if rawcorr[j] <= ci_l:\n",
    "            sig[j] = 1\n",
    "        else:\n",
    "            sig[j] = 0\n",
    "        \n",
    "sig"
   ]
  },
  {
   "cell_type": "code",
   "execution_count": 8,
   "id": "7fa70370-8bf4-477a-9e94-0c8eaa4c7442",
   "metadata": {
    "tags": []
   },
   "outputs": [
    {
     "data": {
      "text/plain": [
       "array([[-0.12865955],\n",
       "       [-0.42084872],\n",
       "       [-0.43917944],\n",
       "       [-0.34373878],\n",
       "       [-0.18391949],\n",
       "       [ 0.12614619],\n",
       "       [ 0.47049664],\n",
       "       [ 0.52451693],\n",
       "       [ 0.19367211],\n",
       "       [-0.17615581],\n",
       "       [-0.3192819 ],\n",
       "       [-0.29121874],\n",
       "       [-0.21613759],\n",
       "       [-0.06584287],\n",
       "       [ 0.180993  ]])"
      ]
     },
     "execution_count": 8,
     "metadata": {},
     "output_type": "execute_result"
    }
   ],
   "source": [
    "rawcorr"
   ]
  },
  {
   "cell_type": "code",
   "execution_count": null,
   "id": "51fa1ff6-b11d-4ae9-8ce4-094b8ff3050a",
   "metadata": {},
   "outputs": [],
   "source": []
  }
 ],
 "metadata": {
  "kernelspec": {
   "display_name": "1 Python 3 (based on the module python3/2023.01)",
   "language": "python",
   "name": "python3_2023_01"
  },
  "language_info": {
   "codemirror_mode": {
    "name": "ipython",
    "version": 3
   },
   "file_extension": ".py",
   "mimetype": "text/x-python",
   "name": "python",
   "nbconvert_exporter": "python",
   "pygments_lexer": "ipython3",
   "version": "3.10.10"
  }
 },
 "nbformat": 4,
 "nbformat_minor": 5
}
