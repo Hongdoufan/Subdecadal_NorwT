{
 "cells": [
  {
   "cell_type": "code",
   "execution_count": null,
   "id": "2af75dd2-7897-4907-8582-ff08c9dd34e3",
   "metadata": {},
   "outputs": [],
   "source": [
    "import xarray as xr\n",
    "import numpy as np\n",
    "import glob\n",
    "import matplotlib.pyplot as plt\n",
    "import cartopy.crs as ccrs\n",
    "import matplotlib.ticker as mticker\n",
    "import cartopy.feature as cfeature\n",
    "import cartopy.io.shapereader as shpreader\n",
    "from cartopy.mpl.gridliner import LONGITUDE_FORMATTER, LATITUDE_FORMATTER\n",
    "from xarray import DataArray\n",
    "import pandas as pd\n",
    "import pylab as plt"
   ]
  },
  {
   "cell_type": "code",
   "execution_count": null,
   "id": "c490d1de-d204-4ac6-b8a4-05cc495609ac",
   "metadata": {
    "tags": []
   },
   "outputs": [],
   "source": [
    "na = np.load(\"/work/uo1075/u241321/data/eemd_NAO_slp_assi_dt.npy\")   # linealy detrened  \n",
    "\n",
    "nao = na[2,:]+na[3,:]+na[4,:]\n",
    "\n",
    "# spg1 = np.load(\"/work/uo1075/u241321/data/EEMD_spg_density_dt.npy\")   # (5,50) mode(input, c1-c4), time\n",
    "# spg = spg1[2,:]+spg1[3,:]+spg1[4,:]\n"
   ]
  },
  {
   "cell_type": "code",
   "execution_count": null,
   "id": "b1cca20c-f1bf-4c13-a61e-b91c42258dc9",
   "metadata": {},
   "outputs": [],
   "source": [
    "# lead-lag correlation\n",
    "from scipy.stats import pearsonr\n",
    "import numpy as np\n",
    "\n",
    "# lead lag pearson correlation, negative values indicate data1 leads data2, n is the lead lag step\n",
    "# the time length for correlation is sample-n; for example, for 50 years sample,\n",
    "# if 10 yrs leadlag is choosen, the time length is 40 yrs\n",
    "\n",
    "def leadlagcor(data1,data2,n):\n",
    "    a=-n\n",
    "    b=-a\n",
    "    c=b*2+1\n",
    "    x=np.arange(-n,n+1,1)\n",
    "    r=np.zeros((c,1))\n",
    "    p=np.zeros((c,1))\n",
    "    begin=x[c-1]\n",
    "    end=len(data1)-x[c-1]\n",
    "    \n",
    "    for i in range(c):\n",
    "        if i<=(b):\n",
    "            r[n-i],p[n-i]=pearsonr(data1[:end], data2[i:end+i])\n",
    "        else:\n",
    "            r[i],p[i]=pearsonr(data1[x[i]:end+x[i]], data2[:end])\n",
    "    return r,p"
   ]
  },
  {
   "cell_type": "code",
   "execution_count": null,
   "id": "e310b8be-8f8d-489e-bbb7-af584fbc9197",
   "metadata": {
    "tags": []
   },
   "outputs": [],
   "source": [
    "assi1 = np.load(\"/work/uo1075/u241321/data/eemd_t310_assi_Norwegian.npy\")\n",
    "assi_t = assi1[1::,:]\n",
    "\n",
    "n=7\n",
    "\n",
    "\n",
    "corr, sig=leadlagcor(nao,assi_t[1,:],n)\n",
    "corr1, sig1=leadlagcor(spg,assi_t[1,:],n)\n",
    "corr2, sig2=leadlagcor(nao,spg,n)"
   ]
  },
  {
   "cell_type": "code",
   "execution_count": null,
   "id": "0d735ab2-51d9-4eb1-be79-1932e8db2c8d",
   "metadata": {
    "tags": []
   },
   "outputs": [],
   "source": [
    "# significant value for C2\n",
    "significance = np.zeros((2*n+1))\n",
    "yes=1\n",
    "no=0\n",
    "\n",
    "marksize3 = np.zeros((2*n+1))\n",
    "s=1\n",
    "l=100\n",
    "\n",
    "for i in range(2*n+1):\n",
    "        if sig[i,0] <= 0.1:\n",
    "            significance[i] = yes\n",
    "            marksize3[i] = l\n",
    "        \n",
    "        else:\n",
    "            significance[i] = no\n",
    "            marksize3[i] = s\n",
    "            \n"
   ]
  },
  {
   "cell_type": "code",
   "execution_count": null,
   "id": "af7fd4eb-ea31-448d-9181-8c7f40a41de7",
   "metadata": {
    "tags": []
   },
   "outputs": [],
   "source": [
    "# significant value for C2\n",
    "significance1 = np.zeros((2*n+1))\n",
    "yes=1\n",
    "no=0\n",
    "\n",
    "marksize1 = np.zeros((2*n+1))\n",
    "s=1\n",
    "l=100\n",
    "\n",
    "for i in range(2*n+1):\n",
    "        if sig1[i,0] <= 0.1:\n",
    "            significance1[i] = yes\n",
    "            marksize1[i] = l\n",
    "        \n",
    "        else:\n",
    "            significance1[i] = no\n",
    "            marksize1[i] = s\n",
    "            \n"
   ]
  },
  {
   "cell_type": "code",
   "execution_count": null,
   "id": "a121be55-2b04-481d-b6f1-a9cb1c92d43e",
   "metadata": {
    "tags": []
   },
   "outputs": [],
   "source": [
    "# significant value for C2\n",
    "significance2 = np.zeros((2*n+1))\n",
    "yes=1\n",
    "no=0\n",
    "\n",
    "marksize2 = np.zeros((2*n+1))\n",
    "s=1\n",
    "l=100\n",
    "\n",
    "for i in range(2*n+1):\n",
    "        if sig2[i,0] <= 0.1:\n",
    "            significance2[i] = yes\n",
    "            marksize2[i] = l\n",
    "        \n",
    "        else:\n",
    "            significance2[i] = no\n",
    "            marksize2[i] = s\n",
    "            \n"
   ]
  },
  {
   "cell_type": "code",
   "execution_count": null,
   "id": "3f22bd72-fbaa-4adf-98da-7340c33f5bbf",
   "metadata": {
    "tags": []
   },
   "outputs": [],
   "source": [
    "significance"
   ]
  },
  {
   "cell_type": "code",
   "execution_count": null,
   "id": "02c154b2-d3af-4d08-90d6-4ebb005bf7da",
   "metadata": {
    "tags": []
   },
   "outputs": [],
   "source": [
    "significance1"
   ]
  },
  {
   "cell_type": "code",
   "execution_count": null,
   "id": "245eb853-dab9-4e43-82d1-e591ceb389a2",
   "metadata": {
    "tags": []
   },
   "outputs": [],
   "source": [
    "significance2"
   ]
  },
  {
   "cell_type": "code",
   "execution_count": null,
   "id": "6c6eeb57-0081-462b-aaa6-65285a000f18",
   "metadata": {},
   "outputs": [],
   "source": [
    "# \n",
    "dotsize = 150\n",
    "color = 'orangered'     \n",
    "x = np.arange(-n,n+1)\n",
    "y1 = corr[:,0]\n",
    "y2 = corr1[:,0]\n",
    "y3 = corr2[:,0]\n",
    "# y4 = corr[3,:]\n",
    "\n",
    "\n",
    "fig, ax = plt.subplots(figsize = [16,6])\n",
    "\n",
    "ax.plot(x, y1, '-', color='orangered', linewidth=3.6, markersize=10, label = 'T&NAO', zorder=10)\n",
    "# ax.plot(x, y2, '-', color='orangered',linestyle='dashed',linewidth=3.6, markersize=10, label = 'T&SPG', zorder=10)\n",
    "# ax.plot(x, y3, '-', linewidth=3, color='black',markersize=10, label = 'SPG&NAO')\n",
    "\n",
    "# ax.scatter(x, y1, 'o-', s=[1,2,3,2,4,3,2,2,2,1], linestyle='dashed', color='blue',label = 'raw_dtrend')\n",
    "# ax.scatter(x, y1,  marksize3,color='orangered')\n",
    "# ax.scatter(x, y2,  marksize1,color='green')\n",
    "\n",
    "# NAO & T\n",
    "# ax.scatter(x[1], y1[1], dotsize,color=color, zorder=10)\n",
    "# ax.scatter(x[2], y1[2], dotsize,color=color, zorder=10)\n",
    "# ax.scatter(x[6], y1[6], dotsize,color=color, zorder=10)\n",
    "# ax.scatter(x[7], y1[7], dotsize,color=color, zorder=10)\n",
    "# ax.scatter(x[10], y1[10], dotsize,color=color, zorder=10)\n",
    "# ax.scatter(x[11], y1[11], dotsize,color=color, zorder=10)\n",
    "# ax.scatter(x[12], y1[12], dotsize,color=color, zorder=10)\n",
    "# ax.scatter(x[13], y1[13], dotsize,color=color, zorder=10)\n",
    "\n",
    "# # SPG & T\n",
    "# color = 'orangered'     \n",
    "# ax.scatter(x[4], y2[4], dotsize,color=color, zorder=10)\n",
    "# ax.scatter(x[12], y2[12], dotsize,color=color, zorder=10)\n",
    "\n",
    "# # NAO & SPG\n",
    "# color = 'black'     \n",
    "# ax.scatter(x[1], y3[1], dotsize,color=color, zorder=10)\n",
    "# ax.scatter(x[2], y3[2], dotsize,color=color, zorder=10)\n",
    "# ax.scatter(x[6], y3[6], dotsize,color=color, zorder=10)\n",
    "# ax.scatter(x[7], y3[7], dotsize,color=color, zorder=10)\n",
    "# ax.scatter(x[0], y3[0], dotsize,color=color, zorder=10)\n",
    "# ax.scatter(x[5], y3[5], dotsize,color=color, zorder=10)\n",
    "\n",
    "\n",
    "ax.set_title('Lead-lag correlation ',size = '20', loc = 'left', pad = 19)\n",
    "\n",
    "ax.set(xlabel='Lag years ', ylabel=' ',\n",
    "       title='')\n",
    "# ax.set_ylim(-1, 0.8)\n",
    "# ax.grid()\n",
    "ax.legend(loc='upper left', fontsize='16')\n",
    "# ax.annotate('5%', fontsize='16',\n",
    "#             xy=(80, 150), xycoords='figure points')\n",
    "\n",
    "plt.rcParams[\"font.size\"] = \"15\"\n",
    "plt.show()\n",
    "fig.savefig('/work/uo1075/u241321/results/s1_lead.pdf')    "
   ]
  },
  {
   "cell_type": "code",
   "execution_count": null,
   "id": "7d52c9ea-63b0-44b2-87d2-217a61858f3d",
   "metadata": {},
   "outputs": [],
   "source": []
  },
  {
   "cell_type": "code",
   "execution_count": null,
   "id": "5552b79d-7b40-4278-9351-f0e195f070d9",
   "metadata": {},
   "outputs": [],
   "source": []
  }
 ],
 "metadata": {
  "kernelspec": {
   "display_name": "1 Python 3 (based on the module python3/2023.01)",
   "language": "python",
   "name": "python3_2023_01"
  },
  "language_info": {
   "codemirror_mode": {
    "name": "ipython",
    "version": 3
   },
   "file_extension": ".py",
   "mimetype": "text/x-python",
   "name": "python",
   "nbconvert_exporter": "python",
   "pygments_lexer": "ipython3",
   "version": "3.10.10"
  }
 },
 "nbformat": 4,
 "nbformat_minor": 5
}
